{
  "nbformat": 4,
  "nbformat_minor": 0,
  "metadata": {
    "colab": {
      "name": "주피터 노트북에서 argparse 사용하기.ipynb",
      "provenance": [],
      "collapsed_sections": [],
      "mount_file_id": "1gcrhdkyVXqwhPar7oSj7SneE0esVRdWv",
      "authorship_tag": "ABX9TyMwCKbxoFovUscoyuXedQ+3",
      "include_colab_link": true
    },
    "kernelspec": {
      "name": "python3",
      "display_name": "Python 3"
    },
    "language_info": {
      "name": "python"
    },
    "accelerator": "GPU"
  },
  "cells": [
    {
      "cell_type": "markdown",
      "metadata": {
        "id": "view-in-github",
        "colab_type": "text"
      },
      "source": [
        "<a href=\"https://colab.research.google.com/github/yunskim/Deep-Reinforcement-Learning-Hands-On-Second-Edition/blob/master/%EC%A3%BC%ED%94%BC%ED%84%B0_%EB%85%B8%ED%8A%B8%EB%B6%81%EC%97%90%EC%84%9C_argparse_%EC%82%AC%EC%9A%A9%ED%95%98%EA%B8%B0.ipynb\" target=\"_parent\"><img src=\"https://colab.research.google.com/assets/colab-badge.svg\" alt=\"Open In Colab\"/></a>"
      ]
    },
    {
      "cell_type": "markdown",
      "source": [
        "# argparse 기본\n",
        "\n",
        "argparse는 command line에서 사용하는 argument관리를 지원하는 파이썬 표준 라이브러리리이다."
      ],
      "metadata": {
        "id": "70EqCJ3QLJDc"
      }
    },
    {
      "cell_type": "code",
      "source": [
        "import argparse\n",
        "\n",
        "parser = argparse.ArgumentParser(prog='PROG')\n",
        "parser.add_argument('-x')\n",
        "parser.add_argument('--foo')\n",
        "\n",
        "parser.parse_args(['-x 12', '--foo=foo'])"
      ],
      "metadata": {
        "colab": {
          "base_uri": "https://localhost:8080/"
        },
        "id": "acsMksdbLx5L",
        "outputId": "7d98958f-7115-4592-ed0b-ea5c9363b8e5"
      },
      "execution_count": 22,
      "outputs": [
        {
          "output_type": "execute_result",
          "data": {
            "text/plain": [
              "Namespace(foo='foo', x=' 12')"
            ]
          },
          "metadata": {},
          "execution_count": 22
        }
      ]
    },
    {
      "cell_type": "markdown",
      "source": [
        "# jupyter notebook에서 argparse를 사용하는 법\n",
        "`parse_args()`는 `args: List[str]`를 parameter로 받는다. 이 paramater는 parse할 list of atrings을 참조한다. 기본값으로 `sys.argv`를 가지고 온다.\n",
        "\n",
        "jupyter notebook에서는 기본값 `sys.argv`를 사용하는 대신 parsing할 string의 list를 parameter로 입력하면 console에서 사용하는 것을 염두해두고 작성된 코드를 크게 손보지 않아도 jupyter notebook에서 사용할 수 있다."
      ],
      "metadata": {
        "id": "UZwM4nAWMupf"
      }
    },
    {
      "cell_type": "code",
      "source": [
        "DEFAULT_ENV_NAME = \"PongNoFrameskip-v4\"\n",
        "\n",
        "'''\n",
        "if __name__ == \"__main__\":\n",
        "    parser = argparse.ArgumentParser()\n",
        "    parser.add_argument(\"--cuda\", default=False,\n",
        "                        action=\"store_true\", help=\"Enable cuda\")\n",
        "    parser.add_argument(\"--env\", default=DEFAULT_ENV_NAME,\n",
        "                        help=\"Name of the environment, default=\" +\n",
        "                             DEFAULT_ENV_NAME)\n",
        "    args = parser.parse_args()\n",
        "'''\n",
        "\n",
        "parser = argparse.ArgumentParser()\n",
        "parser.add_argument(\"--cuda\", default=False, action=\"store_true\", help=\"Enable cuda\")\n",
        "parser.add_argument(\"--env\", default=DEFAULT_ENV_NAME, help=f\"Name of the environment, default={DEFAULT_ENV_NAME}\")\n",
        "args = parser.parse_args(['--cuda'])\n",
        "print(args)"
      ],
      "metadata": {
        "colab": {
          "base_uri": "https://localhost:8080/"
        },
        "id": "QcitEW7fK63v",
        "outputId": "a5df8241-ff81-43c5-a4f9-f4df7076b4a0"
      },
      "execution_count": 28,
      "outputs": [
        {
          "output_type": "stream",
          "name": "stdout",
          "text": [
            "Namespace(cuda=True, env='PongNoFrameskip-v4')\n"
          ]
        }
      ]
    },
    {
      "cell_type": "code",
      "source": [
        ""
      ],
      "metadata": {
        "id": "lpDxSSJ5Ou87"
      },
      "execution_count": null,
      "outputs": []
    }
  ]
}